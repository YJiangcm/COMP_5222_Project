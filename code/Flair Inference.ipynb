{
 "cells": [
  {
   "cell_type": "markdown",
   "metadata": {},
   "source": [
    "# Flair Inference"
   ]
  },
  {
   "cell_type": "code",
   "execution_count": 1,
   "metadata": {},
   "outputs": [
    {
     "name": "stdout",
     "output_type": "stream",
     "text": [
      "2021-02-16 17:23:59,131 Reading data from input_io\n",
      "2021-02-16 17:23:59,132 Train: input_io/train.txt\n",
      "2021-02-16 17:23:59,132 Dev: input_io/dev.txt\n",
      "2021-02-16 17:23:59,133 Test: input_io/test.txt\n"
     ]
    }
   ],
   "source": [
    "# Import Libraries\n",
    "\n",
    "import torch\n",
    "import os\n",
    "import flair\n",
    "from flair.data import Corpus\n",
    "from flair.datasets import ColumnCorpus\n",
    "from flair.embeddings import TokenEmbeddings, WordEmbeddings, StackedEmbeddings,CharacterEmbeddings, FlairEmbeddings\n",
    "from typing import List\n",
    "from flair.models import SequenceTagger\n",
    "\n",
    "# Initialize Data\n",
    "\n",
    "flair.device = torch.device(\"cuda:0\")\n",
    "\n",
    "columns = {0:'text'}\n",
    "\n",
    "data_folder = 'input_io/'\n",
    "\n",
    "corpus: Corpus = ColumnCorpus(data_folder, columns,\n",
    "                              train_file='train.txt',\n",
    "                             dev_file='dev.txt',\n",
    "                             test_file='test.txt')\n",
    "    \n",
    "# 2. what tag do we want to predict?\n",
    "tag_type = 'ner'\n",
    "\n",
    "tag_dictionary = corpus.make_tag_dictionary(tag_type=tag_type)"
   ]
  },
  {
   "cell_type": "code",
   "execution_count": 4,
   "metadata": {},
   "outputs": [
    {
     "name": "stdout",
     "output_type": "stream",
     "text": [
      "2021-02-16 17:27:21,555 loading file output_robertalarge_bio/best-model.pt\n"
     ]
    }
   ],
   "source": [
    "# Load the model\n",
    "from flair.models import SequenceTagger\n",
    "model = SequenceTagger.load(\"output_robertalarge_bio/best-model.pt\")"
   ]
  },
  {
   "cell_type": "code",
   "execution_count": 5,
   "metadata": {},
   "outputs": [],
   "source": [
    "# Write predictions in file\n",
    "\n",
    "from flair.models import SequenceTagger\n",
    "from flair.data import Sentence\n",
    "\n",
    "#sentence = Sentence('Please extract information from the file')\n",
    "\n",
    "# predict NER tags\n",
    "#model.predict(sentence)\n",
    "\n",
    "#print(sentence.to_tagged_string())\n",
    "\n",
    "# print sentence with predicted tags\n",
    "\n",
    "with open('roberta-bio-dev.txt', 'w',encoding=\"utf-8\") as f:\n",
    "    for sentence in corpus.dev:\n",
    "    \n",
    "        model.predict(sentence)\n",
    "\n",
    "        for token in sentence:\n",
    "            f.write(f\"{token.text}\\t{token.get_tag('ner').value}\" + \"\\n\")\n",
    "            \n",
    "        f.write(\"\\n\")"
   ]
  }
 ],
 "metadata": {
  "kernelspec": {
   "display_name": "Python 3",
   "language": "python",
   "name": "python3"
  },
  "language_info": {
   "codemirror_mode": {
    "name": "ipython",
    "version": 3
   },
   "file_extension": ".py",
   "mimetype": "text/x-python",
   "name": "python",
   "nbconvert_exporter": "python",
   "pygments_lexer": "ipython3",
   "version": "3.7.3"
  }
 },
 "nbformat": 4,
 "nbformat_minor": 5
}
